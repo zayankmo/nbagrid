{
 "cells": [
  {
   "cell_type": "code",
   "execution_count": 1,
   "id": "fb32d5a7",
   "metadata": {},
   "outputs": [],
   "source": [
    "from bs4 import BeautifulSoup\n",
    "import requests\n",
    "import pandas as pd\n",
    "from selenium import webdriver\n",
    "from selenium.webdriver.chrome.service import Service\n",
    "import os\n",
    "import time\n",
    "import re\n",
    "import numpy as np"
   ]
  },
  {
   "cell_type": "code",
   "execution_count": null,
   "id": "6b63f50b",
   "metadata": {},
   "outputs": [],
   "source": [
    "/Users/zayank/WebstormProjects/nbagrid/letterDF/a"
   ]
  },
  {
   "cell_type": "code",
   "execution_count": 15,
   "id": "66667960",
   "metadata": {},
   "outputs": [
    {
     "data": {
      "text/plain": [
       "['r',\n",
       " 'u',\n",
       " 'i',\n",
       " 'n',\n",
       " 'g',\n",
       " 'z',\n",
       " 't',\n",
       " 's',\n",
       " 'a',\n",
       " 'f',\n",
       " 'o',\n",
       " 'h',\n",
       " 'm',\n",
       " 'j',\n",
       " 'c',\n",
       " 'd',\n",
       " 'v',\n",
       " 'q',\n",
       " 'e',\n",
       " 'b',\n",
       " 'k',\n",
       " 'l',\n",
       " 'y',\n",
       " 'p',\n",
       " 'w']"
      ]
     },
     "execution_count": 15,
     "metadata": {},
     "output_type": "execute_result"
    }
   ],
   "source": [
    "os.listdir(\"letterDF/\")"
   ]
  },
  {
   "cell_type": "code",
   "execution_count": 4,
   "id": "97fd4f7a",
   "metadata": {},
   "outputs": [],
   "source": [
    "def get_df(letter):\n",
    "    filepath = os.listdir(f\"letterDF/{letter}\")\n",
    "    return pd.read_csv(filepath)"
   ]
  },
  {
   "cell_type": "code",
   "execution_count": 5,
   "id": "40298017",
   "metadata": {},
   "outputs": [
    {
     "ename": "NotADirectoryError",
     "evalue": "[Errno 20] Not a directory: 'letterDF/a'",
     "output_type": "error",
     "traceback": [
      "\u001b[0;31m---------------------------------------------------------------------------\u001b[0m",
      "\u001b[0;31mNotADirectoryError\u001b[0m                        Traceback (most recent call last)",
      "Cell \u001b[0;32mIn[5], line 1\u001b[0m\n\u001b[0;32m----> 1\u001b[0m a_df \u001b[38;5;241m=\u001b[39m \u001b[43mget_df\u001b[49m\u001b[43m(\u001b[49m\u001b[38;5;124;43m\"\u001b[39;49m\u001b[38;5;124;43ma\u001b[39;49m\u001b[38;5;124;43m\"\u001b[39;49m\u001b[43m)\u001b[49m\n\u001b[1;32m      2\u001b[0m b_df \u001b[38;5;241m=\u001b[39m get_df(\u001b[38;5;124m\"\u001b[39m\u001b[38;5;124mb\u001b[39m\u001b[38;5;124m\"\u001b[39m)\n\u001b[1;32m      3\u001b[0m c_df \u001b[38;5;241m=\u001b[39m get_df(\u001b[38;5;124m\"\u001b[39m\u001b[38;5;124mc\u001b[39m\u001b[38;5;124m\"\u001b[39m)\n",
      "Cell \u001b[0;32mIn[4], line 2\u001b[0m, in \u001b[0;36mget_df\u001b[0;34m(letter)\u001b[0m\n\u001b[1;32m      1\u001b[0m \u001b[38;5;28;01mdef\u001b[39;00m \u001b[38;5;21mget_df\u001b[39m(letter):\n\u001b[0;32m----> 2\u001b[0m     filepath \u001b[38;5;241m=\u001b[39m \u001b[43mos\u001b[49m\u001b[38;5;241;43m.\u001b[39;49m\u001b[43mlistdir\u001b[49m\u001b[43m(\u001b[49m\u001b[38;5;124;43mf\u001b[39;49m\u001b[38;5;124;43m\"\u001b[39;49m\u001b[38;5;124;43mletterDF/\u001b[39;49m\u001b[38;5;132;43;01m{\u001b[39;49;00m\u001b[43mletter\u001b[49m\u001b[38;5;132;43;01m}\u001b[39;49;00m\u001b[38;5;124;43m\"\u001b[39;49m\u001b[43m)\u001b[49m\n\u001b[1;32m      3\u001b[0m     \u001b[38;5;28;01mreturn\u001b[39;00m pd\u001b[38;5;241m.\u001b[39mread_csv(filepath)\n",
      "\u001b[0;31mNotADirectoryError\u001b[0m: [Errno 20] Not a directory: 'letterDF/a'"
     ]
    }
   ],
   "source": [
    "a_df = get_df(\"a\")\n",
    "b_df = get_df(\"b\")\n",
    "c_df = get_df(\"c\")\n",
    "d_df = get_df(\"d\")"
   ]
  },
  {
   "cell_type": "code",
   "execution_count": null,
   "id": "dfa6d9fc",
   "metadata": {},
   "outputs": [],
   "source": []
  }
 ],
 "metadata": {
  "kernelspec": {
   "display_name": "Python 3 (ipykernel)",
   "language": "python",
   "name": "python3"
  },
  "language_info": {
   "codemirror_mode": {
    "name": "ipython",
    "version": 3
   },
   "file_extension": ".py",
   "mimetype": "text/x-python",
   "name": "python",
   "nbconvert_exporter": "python",
   "pygments_lexer": "ipython3",
   "version": "3.10.9"
  }
 },
 "nbformat": 4,
 "nbformat_minor": 5
}
