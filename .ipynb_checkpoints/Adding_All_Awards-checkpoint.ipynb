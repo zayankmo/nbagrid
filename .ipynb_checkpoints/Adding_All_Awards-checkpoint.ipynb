{
 "cells": [
  {
   "cell_type": "code",
   "execution_count": 1,
   "id": "f08510e9",
   "metadata": {},
   "outputs": [],
   "source": [
    "from bs4 import BeautifulSoup\n",
    "import requests\n",
    "import pandas as pd\n",
    "from selenium import webdriver\n",
    "from selenium.webdriver.chrome.service import Service\n",
    "import os\n",
    "import time\n",
    "import re\n",
    "import numpy as np"
   ]
  },
  {
   "cell_type": "code",
   "execution_count": 2,
   "id": "49279742",
   "metadata": {},
   "outputs": [],
   "source": [
    "db = pd.read_csv(\"database.csv\")"
   ]
  },
  {
   "cell_type": "code",
   "execution_count": 4,
   "id": "102668c7",
   "metadata": {},
   "outputs": [],
   "source": [
    "db = db.drop(\"Unnamed: 0\", axis=1)"
   ]
  },
  {
   "cell_type": "code",
   "execution_count": 13,
   "id": "43d8c814",
   "metadata": {},
   "outputs": [],
   "source": [
    "asg_mvp = pd.read_csv(\"awards/asg_mvp.csv\")"
   ]
  },
  {
   "cell_type": "code",
   "execution_count": 16,
   "id": "d1c0e700",
   "metadata": {},
   "outputs": [],
   "source": [
    "# Adding all-star game mvp winners\n",
    "db[\"All Star Game MVP\"] = False"
   ]
  },
  {
   "cell_type": "code",
   "execution_count": 29,
   "id": "c0649d35",
   "metadata": {},
   "outputs": [
    {
     "data": {
      "text/html": [
       "<div>\n",
       "<style scoped>\n",
       "    .dataframe tbody tr th:only-of-type {\n",
       "        vertical-align: middle;\n",
       "    }\n",
       "\n",
       "    .dataframe tbody tr th {\n",
       "        vertical-align: top;\n",
       "    }\n",
       "\n",
       "    .dataframe thead th {\n",
       "        text-align: right;\n",
       "    }\n",
       "</style>\n",
       "<table border=\"1\" class=\"dataframe\">\n",
       "  <thead>\n",
       "    <tr style=\"text-align: right;\">\n",
       "      <th></th>\n",
       "      <th>Player</th>\n",
       "    </tr>\n",
       "  </thead>\n",
       "  <tbody>\n",
       "    <tr>\n",
       "      <th>0</th>\n",
       "      <td>Jayson Tatum</td>\n",
       "    </tr>\n",
       "    <tr>\n",
       "      <th>1</th>\n",
       "      <td>Stephen Curry</td>\n",
       "    </tr>\n",
       "    <tr>\n",
       "      <th>2</th>\n",
       "      <td>Giannis Antetokounmpo</td>\n",
       "    </tr>\n",
       "    <tr>\n",
       "      <th>3</th>\n",
       "      <td>Kawhi Leonard</td>\n",
       "    </tr>\n",
       "    <tr>\n",
       "      <th>4</th>\n",
       "      <td>Kevin Durant</td>\n",
       "    </tr>\n",
       "    <tr>\n",
       "      <th>...</th>\n",
       "      <td>...</td>\n",
       "    </tr>\n",
       "    <tr>\n",
       "      <th>71</th>\n",
       "      <td>Bill Sharman</td>\n",
       "    </tr>\n",
       "    <tr>\n",
       "      <th>72</th>\n",
       "      <td>Bob Cousy</td>\n",
       "    </tr>\n",
       "    <tr>\n",
       "      <th>73</th>\n",
       "      <td>George Mikan</td>\n",
       "    </tr>\n",
       "    <tr>\n",
       "      <th>74</th>\n",
       "      <td>Paul Arizin</td>\n",
       "    </tr>\n",
       "    <tr>\n",
       "      <th>75</th>\n",
       "      <td>Ed Macauley</td>\n",
       "    </tr>\n",
       "  </tbody>\n",
       "</table>\n",
       "<p>76 rows × 1 columns</p>\n",
       "</div>"
      ],
      "text/plain": [
       "                   Player\n",
       "0            Jayson Tatum\n",
       "1           Stephen Curry\n",
       "2   Giannis Antetokounmpo\n",
       "3           Kawhi Leonard\n",
       "4            Kevin Durant\n",
       "..                    ...\n",
       "71           Bill Sharman\n",
       "72              Bob Cousy\n",
       "73           George Mikan\n",
       "74            Paul Arizin\n",
       "75            Ed Macauley\n",
       "\n",
       "[76 rows x 1 columns]"
      ]
     },
     "execution_count": 29,
     "metadata": {},
     "output_type": "execute_result"
    }
   ],
   "source": [
    "asg_mvp"
   ]
  },
  {
   "cell_type": "code",
   "execution_count": 30,
   "id": "a3069888",
   "metadata": {},
   "outputs": [],
   "source": [
    "# Code to add TRUE for anyone who won ASG MVP\n",
    "for i in range(len(asg_mvp)):\n",
    "    player = asg_mvp[\"Player\"][i]\n",
    "    db.loc[db[\"Name\"] == player, \"All Star Game MVP\"] = True"
   ]
  },
  {
   "cell_type": "code",
   "execution_count": 35,
   "id": "6904b907",
   "metadata": {},
   "outputs": [
    {
     "data": {
      "text/html": [
       "<div>\n",
       "<style scoped>\n",
       "    .dataframe tbody tr th:only-of-type {\n",
       "        vertical-align: middle;\n",
       "    }\n",
       "\n",
       "    .dataframe tbody tr th {\n",
       "        vertical-align: top;\n",
       "    }\n",
       "\n",
       "    .dataframe thead th {\n",
       "        text-align: right;\n",
       "    }\n",
       "</style>\n",
       "<table border=\"1\" class=\"dataframe\">\n",
       "  <thead>\n",
       "    <tr style=\"text-align: right;\">\n",
       "      <th></th>\n",
       "      <th>Player</th>\n",
       "    </tr>\n",
       "  </thead>\n",
       "  <tbody>\n",
       "    <tr>\n",
       "      <th>0</th>\n",
       "      <td>Joel Embiid</td>\n",
       "    </tr>\n",
       "    <tr>\n",
       "      <th>1</th>\n",
       "      <td>Nikola Jokić</td>\n",
       "    </tr>\n",
       "    <tr>\n",
       "      <th>2</th>\n",
       "      <td>Nikola Jokić</td>\n",
       "    </tr>\n",
       "    <tr>\n",
       "      <th>3</th>\n",
       "      <td>Giannis Antetokounmpo</td>\n",
       "    </tr>\n",
       "    <tr>\n",
       "      <th>4</th>\n",
       "      <td>Giannis Antetokounmpo</td>\n",
       "    </tr>\n",
       "    <tr>\n",
       "      <th>...</th>\n",
       "      <td>...</td>\n",
       "    </tr>\n",
       "    <tr>\n",
       "      <th>73</th>\n",
       "      <td>Artis Gilmore</td>\n",
       "    </tr>\n",
       "    <tr>\n",
       "      <th>74</th>\n",
       "      <td>Mel Daniels</td>\n",
       "    </tr>\n",
       "    <tr>\n",
       "      <th>75</th>\n",
       "      <td>Spencer Haywood</td>\n",
       "    </tr>\n",
       "    <tr>\n",
       "      <th>76</th>\n",
       "      <td>Mel Daniels</td>\n",
       "    </tr>\n",
       "    <tr>\n",
       "      <th>77</th>\n",
       "      <td>Connie Hawkins</td>\n",
       "    </tr>\n",
       "  </tbody>\n",
       "</table>\n",
       "<p>78 rows × 1 columns</p>\n",
       "</div>"
      ],
      "text/plain": [
       "                   Player\n",
       "0             Joel Embiid\n",
       "1            Nikola Jokić\n",
       "2            Nikola Jokić\n",
       "3   Giannis Antetokounmpo\n",
       "4   Giannis Antetokounmpo\n",
       "..                    ...\n",
       "73          Artis Gilmore\n",
       "74            Mel Daniels\n",
       "75        Spencer Haywood\n",
       "76            Mel Daniels\n",
       "77         Connie Hawkins\n",
       "\n",
       "[78 rows x 1 columns]"
      ]
     },
     "execution_count": 35,
     "metadata": {},
     "output_type": "execute_result"
    }
   ],
   "source": [
    "mvp = pd.read_csv(\"awards/nba_mvp.csv\")\n",
    "mvp"
   ]
  },
  {
   "cell_type": "code",
   "execution_count": 45,
   "id": "ea5ff0fe",
   "metadata": {},
   "outputs": [],
   "source": [
    "# Adding nba/aba mvp winners\n",
    "db[\"Most Valuable Player\"] = False\n",
    "for i in range(len(mvp)):\n",
    "    player = mvp[\"Player\"][i]\n",
    "    db.loc[db[\"Name\"] == player, \"Most Valuable Player\"] = True"
   ]
  },
  {
   "cell_type": "code",
   "execution_count": 46,
   "id": "5d714b11",
   "metadata": {},
   "outputs": [
    {
     "data": {
      "text/html": [
       "<div>\n",
       "<style scoped>\n",
       "    .dataframe tbody tr th:only-of-type {\n",
       "        vertical-align: middle;\n",
       "    }\n",
       "\n",
       "    .dataframe tbody tr th {\n",
       "        vertical-align: top;\n",
       "    }\n",
       "\n",
       "    .dataframe thead th {\n",
       "        text-align: right;\n",
       "    }\n",
       "</style>\n",
       "<table border=\"1\" class=\"dataframe\">\n",
       "  <thead>\n",
       "    <tr style=\"text-align: right;\">\n",
       "      <th></th>\n",
       "      <th>Name</th>\n",
       "      <th>Season</th>\n",
       "      <th>Age</th>\n",
       "      <th>Tm</th>\n",
       "      <th>Lg</th>\n",
       "      <th>Pos</th>\n",
       "      <th>G</th>\n",
       "      <th>GS</th>\n",
       "      <th>MP</th>\n",
       "      <th>FG</th>\n",
       "      <th>...</th>\n",
       "      <th>College</th>\n",
       "      <th>Image URL</th>\n",
       "      <th>All Star Games</th>\n",
       "      <th>Championships</th>\n",
       "      <th>HOF</th>\n",
       "      <th>Pick #</th>\n",
       "      <th>Draft Year</th>\n",
       "      <th>Triple-Doubles</th>\n",
       "      <th>All Star Game MVP</th>\n",
       "      <th>Most Valuable Player</th>\n",
       "    </tr>\n",
       "  </thead>\n",
       "  <tbody>\n",
       "    <tr>\n",
       "      <th>2183</th>\n",
       "      <td>LeBron James</td>\n",
       "      <td>2003-04</td>\n",
       "      <td>19.0</td>\n",
       "      <td>['CLE' 'MIA' 'LAL']</td>\n",
       "      <td>NBA</td>\n",
       "      <td>SG</td>\n",
       "      <td>82.0</td>\n",
       "      <td>82.0</td>\n",
       "      <td>42.5</td>\n",
       "      <td>11.4</td>\n",
       "      <td>...</td>\n",
       "      <td>NaN</td>\n",
       "      <td>https://www.basketball-reference.com/req/20210...</td>\n",
       "      <td>19</td>\n",
       "      <td>4</td>\n",
       "      <td>1</td>\n",
       "      <td>1.0</td>\n",
       "      <td>2003.0</td>\n",
       "      <td>107.0</td>\n",
       "      <td>True</td>\n",
       "      <td>True</td>\n",
       "    </tr>\n",
       "  </tbody>\n",
       "</table>\n",
       "<p>1 rows × 48 columns</p>\n",
       "</div>"
      ],
      "text/plain": [
       "              Name   Season   Age                   Tm   Lg Pos     G    GS  \\\n",
       "2183  LeBron James  2003-04  19.0  ['CLE' 'MIA' 'LAL']  NBA  SG  82.0  82.0   \n",
       "\n",
       "        MP    FG  ...  College  \\\n",
       "2183  42.5  11.4  ...      NaN   \n",
       "\n",
       "                                              Image URL  All Star Games  \\\n",
       "2183  https://www.basketball-reference.com/req/20210...              19   \n",
       "\n",
       "      Championships  HOF  Pick #  Draft Year  Triple-Doubles  \\\n",
       "2183              4    1     1.0      2003.0           107.0   \n",
       "\n",
       "      All Star Game MVP  Most Valuable Player  \n",
       "2183               True                  True  \n",
       "\n",
       "[1 rows x 48 columns]"
      ]
     },
     "execution_count": 46,
     "metadata": {},
     "output_type": "execute_result"
    }
   ],
   "source": [
    "db[db[\"Name\"] == \"LeBron James\"]"
   ]
  },
  {
   "cell_type": "code",
   "execution_count": 47,
   "id": "a036c005",
   "metadata": {},
   "outputs": [
    {
     "data": {
      "text/plain": [
       "Index(['Name', 'Season', 'Age', 'Tm', 'Lg', 'Pos', 'G', 'GS', 'MP', 'FG',\n",
       "       'FGA', 'FG%', '3P', '3PA', '3P%', '2P', '2PA', '2P%', 'eFG%', 'FT',\n",
       "       'FTA', 'FT%', 'ORB', 'DRB', 'TRB', 'AST', 'STL', 'BLK', 'TOV', 'PF',\n",
       "       'PTS', 'MidSeasonTrade', 'Career high, Points', 'Career high, Rebounds',\n",
       "       'Career high, Assists', 'Career high, Steals', 'Career high, Blocks',\n",
       "       'Career high, Game Score', 'College', 'Image URL', 'All Star Games',\n",
       "       'Championships', 'HOF', 'Pick #', 'Draft Year', 'Triple-Doubles',\n",
       "       'All Star Game MVP', 'Most Valuable Player'],\n",
       "      dtype='object')"
      ]
     },
     "execution_count": 47,
     "metadata": {},
     "output_type": "execute_result"
    }
   ],
   "source": [
    "db.columns"
   ]
  },
  {
   "cell_type": "code",
   "execution_count": 48,
   "id": "acd36f86",
   "metadata": {},
   "outputs": [
    {
     "data": {
      "text/html": [
       "<div>\n",
       "<style scoped>\n",
       "    .dataframe tbody tr th:only-of-type {\n",
       "        vertical-align: middle;\n",
       "    }\n",
       "\n",
       "    .dataframe tbody tr th {\n",
       "        vertical-align: top;\n",
       "    }\n",
       "\n",
       "    .dataframe thead th {\n",
       "        text-align: right;\n",
       "    }\n",
       "</style>\n",
       "<table border=\"1\" class=\"dataframe\">\n",
       "  <thead>\n",
       "    <tr style=\"text-align: right;\">\n",
       "      <th></th>\n",
       "      <th>Player</th>\n",
       "    </tr>\n",
       "  </thead>\n",
       "  <tbody>\n",
       "    <tr>\n",
       "      <th>0</th>\n",
       "      <td>Paolo Banchero</td>\n",
       "    </tr>\n",
       "    <tr>\n",
       "      <th>1</th>\n",
       "      <td>Scottie Barnes</td>\n",
       "    </tr>\n",
       "    <tr>\n",
       "      <th>2</th>\n",
       "      <td>LaMelo Ball</td>\n",
       "    </tr>\n",
       "    <tr>\n",
       "      <th>3</th>\n",
       "      <td>Ja Morant</td>\n",
       "    </tr>\n",
       "    <tr>\n",
       "      <th>4</th>\n",
       "      <td>Luka Dončić</td>\n",
       "    </tr>\n",
       "    <tr>\n",
       "      <th>...</th>\n",
       "      <td>...</td>\n",
       "    </tr>\n",
       "    <tr>\n",
       "      <th>85</th>\n",
       "      <td>Dan Issel</td>\n",
       "    </tr>\n",
       "    <tr>\n",
       "      <th>86</th>\n",
       "      <td>Charlie Scott</td>\n",
       "    </tr>\n",
       "    <tr>\n",
       "      <th>87</th>\n",
       "      <td>Spencer Haywood</td>\n",
       "    </tr>\n",
       "    <tr>\n",
       "      <th>88</th>\n",
       "      <td>Warren Jabali</td>\n",
       "    </tr>\n",
       "    <tr>\n",
       "      <th>89</th>\n",
       "      <td>Mel Daniels</td>\n",
       "    </tr>\n",
       "  </tbody>\n",
       "</table>\n",
       "<p>90 rows × 1 columns</p>\n",
       "</div>"
      ],
      "text/plain": [
       "             Player\n",
       "0    Paolo Banchero\n",
       "1    Scottie Barnes\n",
       "2       LaMelo Ball\n",
       "3         Ja Morant\n",
       "4       Luka Dončić\n",
       "..              ...\n",
       "85        Dan Issel\n",
       "86    Charlie Scott\n",
       "87  Spencer Haywood\n",
       "88    Warren Jabali\n",
       "89      Mel Daniels\n",
       "\n",
       "[90 rows x 1 columns]"
      ]
     },
     "execution_count": 48,
     "metadata": {},
     "output_type": "execute_result"
    }
   ],
   "source": [
    "# Rookie of the Year\n",
    "roty = pd.read_csv(\"awards/roty.csv\")\n",
    "roty"
   ]
  },
  {
   "cell_type": "code",
   "execution_count": 49,
   "id": "d1a254a6",
   "metadata": {},
   "outputs": [],
   "source": [
    "db[\"Rookie of the Year\"] = False\n",
    "for i in range(len(roty)):\n",
    "    player = roty[\"Player\"][i]\n",
    "    db.loc[db[\"Name\"] == player, \"Rookie of the Year\"] = True"
   ]
  },
  {
   "cell_type": "code",
   "execution_count": 50,
   "id": "11e0af04",
   "metadata": {},
   "outputs": [
    {
     "data": {
      "text/html": [
       "<div>\n",
       "<style scoped>\n",
       "    .dataframe tbody tr th:only-of-type {\n",
       "        vertical-align: middle;\n",
       "    }\n",
       "\n",
       "    .dataframe tbody tr th {\n",
       "        vertical-align: top;\n",
       "    }\n",
       "\n",
       "    .dataframe thead th {\n",
       "        text-align: right;\n",
       "    }\n",
       "</style>\n",
       "<table border=\"1\" class=\"dataframe\">\n",
       "  <thead>\n",
       "    <tr style=\"text-align: right;\">\n",
       "      <th></th>\n",
       "      <th>Name</th>\n",
       "      <th>Season</th>\n",
       "      <th>Age</th>\n",
       "      <th>Tm</th>\n",
       "      <th>Lg</th>\n",
       "      <th>Pos</th>\n",
       "      <th>G</th>\n",
       "      <th>GS</th>\n",
       "      <th>MP</th>\n",
       "      <th>FG</th>\n",
       "      <th>...</th>\n",
       "      <th>Image URL</th>\n",
       "      <th>All Star Games</th>\n",
       "      <th>Championships</th>\n",
       "      <th>HOF</th>\n",
       "      <th>Pick #</th>\n",
       "      <th>Draft Year</th>\n",
       "      <th>Triple-Doubles</th>\n",
       "      <th>All Star Game MVP</th>\n",
       "      <th>Most Valuable Player</th>\n",
       "      <th>Rookie of the Year</th>\n",
       "    </tr>\n",
       "  </thead>\n",
       "  <tbody>\n",
       "    <tr>\n",
       "      <th>2183</th>\n",
       "      <td>LeBron James</td>\n",
       "      <td>2003-04</td>\n",
       "      <td>19.0</td>\n",
       "      <td>['CLE' 'MIA' 'LAL']</td>\n",
       "      <td>NBA</td>\n",
       "      <td>SG</td>\n",
       "      <td>82.0</td>\n",
       "      <td>82.0</td>\n",
       "      <td>42.5</td>\n",
       "      <td>11.4</td>\n",
       "      <td>...</td>\n",
       "      <td>https://www.basketball-reference.com/req/20210...</td>\n",
       "      <td>19</td>\n",
       "      <td>4</td>\n",
       "      <td>1</td>\n",
       "      <td>1.0</td>\n",
       "      <td>2003.0</td>\n",
       "      <td>107.0</td>\n",
       "      <td>True</td>\n",
       "      <td>True</td>\n",
       "      <td>True</td>\n",
       "    </tr>\n",
       "  </tbody>\n",
       "</table>\n",
       "<p>1 rows × 49 columns</p>\n",
       "</div>"
      ],
      "text/plain": [
       "              Name   Season   Age                   Tm   Lg Pos     G    GS  \\\n",
       "2183  LeBron James  2003-04  19.0  ['CLE' 'MIA' 'LAL']  NBA  SG  82.0  82.0   \n",
       "\n",
       "        MP    FG  ...                                          Image URL  \\\n",
       "2183  42.5  11.4  ...  https://www.basketball-reference.com/req/20210...   \n",
       "\n",
       "      All Star Games  Championships  HOF  Pick #  Draft Year  Triple-Doubles  \\\n",
       "2183              19              4    1     1.0      2003.0           107.0   \n",
       "\n",
       "      All Star Game MVP  Most Valuable Player  Rookie of the Year  \n",
       "2183               True                  True                True  \n",
       "\n",
       "[1 rows x 49 columns]"
      ]
     },
     "execution_count": 50,
     "metadata": {},
     "output_type": "execute_result"
    }
   ],
   "source": [
    "db[db[\"Name\"] == \"LeBron James\"]"
   ]
  },
  {
   "cell_type": "code",
   "execution_count": null,
   "id": "366639f8",
   "metadata": {},
   "outputs": [],
   "source": []
  },
  {
   "cell_type": "code",
   "execution_count": 51,
   "id": "691e8e9c",
   "metadata": {},
   "outputs": [],
   "source": [
    "# Defensive Player of the Year\n",
    "dpoy = pd.read_csv(\"awards/dpoy.csv\")"
   ]
  },
  {
   "cell_type": "code",
   "execution_count": 52,
   "id": "ed4aa064",
   "metadata": {},
   "outputs": [],
   "source": [
    "db[\"Defensive Player of the Year\"] = False\n",
    "for i in range(len(dpoy)):\n",
    "    player = dpoy[\"Player\"][i]\n",
    "    db.loc[db[\"Name\"] == player, \"Defensive Player of the Year\"] = True"
   ]
  },
  {
   "cell_type": "code",
   "execution_count": null,
   "id": "6bb7b026",
   "metadata": {},
   "outputs": [],
   "source": []
  },
  {
   "cell_type": "code",
   "execution_count": 53,
   "id": "6d4a994f",
   "metadata": {},
   "outputs": [],
   "source": [
    "# 6th man of the Year\n",
    "sixth_moy = pd.read_csv(\"awards/6moy.csv\")"
   ]
  },
  {
   "cell_type": "code",
   "execution_count": 54,
   "id": "7bb523d7",
   "metadata": {},
   "outputs": [],
   "source": [
    "db[\"6th Man of the Year\"] = False\n",
    "for i in range(len(sixth_moy)):\n",
    "    player = sixth_moy[\"Player\"][i]\n",
    "    db.loc[db[\"Name\"] == player, \"6th Man of the Year\"] = True"
   ]
  },
  {
   "cell_type": "code",
   "execution_count": null,
   "id": "8ea9772b",
   "metadata": {},
   "outputs": [],
   "source": []
  },
  {
   "cell_type": "code",
   "execution_count": 55,
   "id": "b15b06d4",
   "metadata": {},
   "outputs": [],
   "source": [
    "# Most Improved\n",
    "improved = pd.read_csv(\"awards/improved.csv\")"
   ]
  },
  {
   "cell_type": "code",
   "execution_count": 57,
   "id": "e0698d11",
   "metadata": {},
   "outputs": [],
   "source": [
    "db[\"Most Improved Player\"] = False\n",
    "for i in range(len(improved)):\n",
    "    player = improved[\"Player\"][i]\n",
    "    db.loc[db[\"Name\"] == player, \"Most Improved Player\"] = True"
   ]
  },
  {
   "cell_type": "code",
   "execution_count": null,
   "id": "480b9e48",
   "metadata": {},
   "outputs": [],
   "source": []
  },
  {
   "cell_type": "code",
   "execution_count": 58,
   "id": "ca4cbcc8",
   "metadata": {},
   "outputs": [],
   "source": [
    "# Finals MVP\n",
    "fmvp = pd.read_csv(\"awards/finals_mvp.csv\")"
   ]
  },
  {
   "cell_type": "code",
   "execution_count": 59,
   "id": "f07580f3",
   "metadata": {},
   "outputs": [],
   "source": [
    "db[\"Finals MVP\"] = False\n",
    "for i in range(len(fmvp)):\n",
    "    player = fmvp[\"Player\"][i]\n",
    "    db.loc[db[\"Name\"] == player, \"Finals MVP\"] = True"
   ]
  },
  {
   "cell_type": "code",
   "execution_count": 61,
   "id": "348454f1",
   "metadata": {},
   "outputs": [
    {
     "data": {
      "text/html": [
       "<div>\n",
       "<style scoped>\n",
       "    .dataframe tbody tr th:only-of-type {\n",
       "        vertical-align: middle;\n",
       "    }\n",
       "\n",
       "    .dataframe tbody tr th {\n",
       "        vertical-align: top;\n",
       "    }\n",
       "\n",
       "    .dataframe thead th {\n",
       "        text-align: right;\n",
       "    }\n",
       "</style>\n",
       "<table border=\"1\" class=\"dataframe\">\n",
       "  <thead>\n",
       "    <tr style=\"text-align: right;\">\n",
       "      <th></th>\n",
       "      <th>Name</th>\n",
       "      <th>Season</th>\n",
       "      <th>Age</th>\n",
       "      <th>Tm</th>\n",
       "      <th>Lg</th>\n",
       "      <th>Pos</th>\n",
       "      <th>G</th>\n",
       "      <th>GS</th>\n",
       "      <th>MP</th>\n",
       "      <th>FG</th>\n",
       "      <th>...</th>\n",
       "      <th>Pick #</th>\n",
       "      <th>Draft Year</th>\n",
       "      <th>Triple-Doubles</th>\n",
       "      <th>All Star Game MVP</th>\n",
       "      <th>Most Valuable Player</th>\n",
       "      <th>Rookie of the Year</th>\n",
       "      <th>Defensive Player of the Year</th>\n",
       "      <th>6th Man of the Year</th>\n",
       "      <th>Most Improved Player</th>\n",
       "      <th>Finals MVP</th>\n",
       "    </tr>\n",
       "  </thead>\n",
       "  <tbody>\n",
       "    <tr>\n",
       "      <th>117</th>\n",
       "      <td>Giannis Antetokounmpo</td>\n",
       "      <td>2013-14</td>\n",
       "      <td>19.0</td>\n",
       "      <td>['MIL']</td>\n",
       "      <td>NBA</td>\n",
       "      <td>SF</td>\n",
       "      <td>81.0</td>\n",
       "      <td>80.0</td>\n",
       "      <td>36.7</td>\n",
       "      <td>11.2</td>\n",
       "      <td>...</td>\n",
       "      <td>15.0</td>\n",
       "      <td>2013.0</td>\n",
       "      <td>35.0</td>\n",
       "      <td>True</td>\n",
       "      <td>True</td>\n",
       "      <td>False</td>\n",
       "      <td>True</td>\n",
       "      <td>False</td>\n",
       "      <td>True</td>\n",
       "      <td>True</td>\n",
       "    </tr>\n",
       "  </tbody>\n",
       "</table>\n",
       "<p>1 rows × 53 columns</p>\n",
       "</div>"
      ],
      "text/plain": [
       "                      Name   Season   Age       Tm   Lg Pos     G    GS    MP  \\\n",
       "117  Giannis Antetokounmpo  2013-14  19.0  ['MIL']  NBA  SF  81.0  80.0  36.7   \n",
       "\n",
       "       FG  ...  Pick #  Draft Year  Triple-Doubles  All Star Game MVP  \\\n",
       "117  11.2  ...    15.0      2013.0            35.0               True   \n",
       "\n",
       "     Most Valuable Player  Rookie of the Year  Defensive Player of the Year  \\\n",
       "117                  True               False                          True   \n",
       "\n",
       "     6th Man of the Year  Most Improved Player  Finals MVP  \n",
       "117                False                  True        True  \n",
       "\n",
       "[1 rows x 53 columns]"
      ]
     },
     "execution_count": 61,
     "metadata": {},
     "output_type": "execute_result"
    }
   ],
   "source": [
    "db[db[\"Name\"] == \"Giannis Antetokounmpo\"]"
   ]
  },
  {
   "cell_type": "markdown",
   "id": "c856ff3f",
   "metadata": {},
   "source": [
    "## Finished all major awards, now to add all-nba team, all-defensive, and all-rookie (maybe)"
   ]
  },
  {
   "cell_type": "code",
   "execution_count": null,
   "id": "fe335a7f",
   "metadata": {},
   "outputs": [],
   "source": []
  }
 ],
 "metadata": {
  "kernelspec": {
   "display_name": "Python 3 (ipykernel)",
   "language": "python",
   "name": "python3"
  },
  "language_info": {
   "codemirror_mode": {
    "name": "ipython",
    "version": 3
   },
   "file_extension": ".py",
   "mimetype": "text/x-python",
   "name": "python",
   "nbconvert_exporter": "python",
   "pygments_lexer": "ipython3",
   "version": "3.10.9"
  }
 },
 "nbformat": 4,
 "nbformat_minor": 5
}
