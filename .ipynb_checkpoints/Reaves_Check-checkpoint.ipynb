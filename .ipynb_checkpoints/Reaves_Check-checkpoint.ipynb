{
 "cells": [
  {
   "cell_type": "code",
   "execution_count": 1,
   "id": "02361305",
   "metadata": {},
   "outputs": [],
   "source": [
    "from bs4 import BeautifulSoup\n",
    "import requests\n",
    "import pandas as pd\n",
    "from selenium import webdriver\n",
    "from selenium.webdriver.chrome.service import Service\n",
    "import time\n",
    "import re"
   ]
  },
  {
   "cell_type": "markdown",
   "id": "77d67a7b",
   "metadata": {},
   "source": [
    "### Testing whether web scraping works with Kareem to capture per game stats"
   ]
  },
  {
   "cell_type": "code",
   "execution_count": 2,
   "id": "c47a6e72",
   "metadata": {},
   "outputs": [],
   "source": [
    "service = Service(executable_path=\"/usr/local/bin\")\n",
    "options = webdriver.ChromeOptions()\n",
    "driver = webdriver.Chrome(service=service, options=options)"
   ]
  },
  {
   "cell_type": "code",
   "execution_count": 3,
   "id": "09ae9a14",
   "metadata": {},
   "outputs": [],
   "source": [
    "kareem_url = 'https://www.basketball-reference.com/players/r/reaveau01.html' #Use whatever URL you're scraping from\n",
    "d = driver.get(kareem_url)\n",
    "html = driver.page_source\n",
    "soup = BeautifulSoup(html, \"lxml\")"
   ]
  },
  {
   "cell_type": "code",
   "execution_count": 4,
   "id": "d7906205",
   "metadata": {},
   "outputs": [],
   "source": [
    "kareem_pergame = soup.find('table', {'id':'per_game'})"
   ]
  },
  {
   "cell_type": "code",
   "execution_count": 5,
   "id": "c87a30a2",
   "metadata": {},
   "outputs": [],
   "source": [
    "kareem_pergame_table = pd.read_html(str(kareem_pergame))[0]"
   ]
  },
  {
   "cell_type": "code",
   "execution_count": 6,
   "id": "01785e88",
   "metadata": {
    "scrolled": false
   },
   "outputs": [
    {
     "data": {
      "text/html": [
       "<div>\n",
       "<style scoped>\n",
       "    .dataframe tbody tr th:only-of-type {\n",
       "        vertical-align: middle;\n",
       "    }\n",
       "\n",
       "    .dataframe tbody tr th {\n",
       "        vertical-align: top;\n",
       "    }\n",
       "\n",
       "    .dataframe thead th {\n",
       "        text-align: right;\n",
       "    }\n",
       "</style>\n",
       "<table border=\"1\" class=\"dataframe\">\n",
       "  <thead>\n",
       "    <tr style=\"text-align: right;\">\n",
       "      <th></th>\n",
       "      <th>Season</th>\n",
       "      <th>Age</th>\n",
       "      <th>Tm</th>\n",
       "      <th>Lg</th>\n",
       "      <th>Pos</th>\n",
       "      <th>G</th>\n",
       "      <th>GS</th>\n",
       "      <th>MP</th>\n",
       "      <th>FG</th>\n",
       "      <th>FGA</th>\n",
       "      <th>...</th>\n",
       "      <th>FT%</th>\n",
       "      <th>ORB</th>\n",
       "      <th>DRB</th>\n",
       "      <th>TRB</th>\n",
       "      <th>AST</th>\n",
       "      <th>STL</th>\n",
       "      <th>BLK</th>\n",
       "      <th>TOV</th>\n",
       "      <th>PF</th>\n",
       "      <th>PTS</th>\n",
       "    </tr>\n",
       "  </thead>\n",
       "  <tbody>\n",
       "    <tr>\n",
       "      <th>0</th>\n",
       "      <td>2021-22</td>\n",
       "      <td>23.0</td>\n",
       "      <td>LAL</td>\n",
       "      <td>NBA</td>\n",
       "      <td>SG</td>\n",
       "      <td>61</td>\n",
       "      <td>19</td>\n",
       "      <td>23.2</td>\n",
       "      <td>2.4</td>\n",
       "      <td>5.2</td>\n",
       "      <td>...</td>\n",
       "      <td>0.839</td>\n",
       "      <td>0.7</td>\n",
       "      <td>2.4</td>\n",
       "      <td>3.2</td>\n",
       "      <td>1.8</td>\n",
       "      <td>0.5</td>\n",
       "      <td>0.3</td>\n",
       "      <td>0.7</td>\n",
       "      <td>1.4</td>\n",
       "      <td>7.3</td>\n",
       "    </tr>\n",
       "    <tr>\n",
       "      <th>1</th>\n",
       "      <td>2022-23</td>\n",
       "      <td>24.0</td>\n",
       "      <td>LAL</td>\n",
       "      <td>NBA</td>\n",
       "      <td>SG</td>\n",
       "      <td>64</td>\n",
       "      <td>22</td>\n",
       "      <td>28.8</td>\n",
       "      <td>4.0</td>\n",
       "      <td>7.7</td>\n",
       "      <td>...</td>\n",
       "      <td>0.864</td>\n",
       "      <td>0.5</td>\n",
       "      <td>2.5</td>\n",
       "      <td>3.0</td>\n",
       "      <td>3.4</td>\n",
       "      <td>0.5</td>\n",
       "      <td>0.3</td>\n",
       "      <td>1.5</td>\n",
       "      <td>1.7</td>\n",
       "      <td>13.0</td>\n",
       "    </tr>\n",
       "    <tr>\n",
       "      <th>2</th>\n",
       "      <td>Career</td>\n",
       "      <td>NaN</td>\n",
       "      <td>NaN</td>\n",
       "      <td>NBA</td>\n",
       "      <td>NaN</td>\n",
       "      <td>125</td>\n",
       "      <td>41</td>\n",
       "      <td>26.1</td>\n",
       "      <td>3.2</td>\n",
       "      <td>6.5</td>\n",
       "      <td>...</td>\n",
       "      <td>0.856</td>\n",
       "      <td>0.6</td>\n",
       "      <td>2.5</td>\n",
       "      <td>3.1</td>\n",
       "      <td>2.6</td>\n",
       "      <td>0.5</td>\n",
       "      <td>0.3</td>\n",
       "      <td>1.1</td>\n",
       "      <td>1.6</td>\n",
       "      <td>10.2</td>\n",
       "    </tr>\n",
       "  </tbody>\n",
       "</table>\n",
       "<p>3 rows × 30 columns</p>\n",
       "</div>"
      ],
      "text/plain": [
       "    Season   Age   Tm   Lg  Pos    G  GS    MP   FG  FGA  ...    FT%  ORB  \\\n",
       "0  2021-22  23.0  LAL  NBA   SG   61  19  23.2  2.4  5.2  ...  0.839  0.7   \n",
       "1  2022-23  24.0  LAL  NBA   SG   64  22  28.8  4.0  7.7  ...  0.864  0.5   \n",
       "2   Career   NaN  NaN  NBA  NaN  125  41  26.1  3.2  6.5  ...  0.856  0.6   \n",
       "\n",
       "   DRB  TRB  AST  STL  BLK  TOV   PF   PTS  \n",
       "0  2.4  3.2  1.8  0.5  0.3  0.7  1.4   7.3  \n",
       "1  2.5  3.0  3.4  0.5  0.3  1.5  1.7  13.0  \n",
       "2  2.5  3.1  2.6  0.5  0.3  1.1  1.6  10.2  \n",
       "\n",
       "[3 rows x 30 columns]"
      ]
     },
     "execution_count": 6,
     "metadata": {},
     "output_type": "execute_result"
    }
   ],
   "source": [
    "kareem_pergame_table"
   ]
  },
  {
   "cell_type": "code",
   "execution_count": 9,
   "id": "6604ae3b",
   "metadata": {},
   "outputs": [],
   "source": [
    "career_row = kareem_pergame_table[kareem_pergame_table['Season'] == 'Career'].index.tolist()[0]\n",
    "kareem_pergame_table_processed = kareem_pergame_table.iloc[:career_row]"
   ]
  },
  {
   "cell_type": "code",
   "execution_count": 10,
   "id": "ef52a049",
   "metadata": {},
   "outputs": [
    {
     "data": {
      "text/html": [
       "<div>\n",
       "<style scoped>\n",
       "    .dataframe tbody tr th:only-of-type {\n",
       "        vertical-align: middle;\n",
       "    }\n",
       "\n",
       "    .dataframe tbody tr th {\n",
       "        vertical-align: top;\n",
       "    }\n",
       "\n",
       "    .dataframe thead th {\n",
       "        text-align: right;\n",
       "    }\n",
       "</style>\n",
       "<table border=\"1\" class=\"dataframe\">\n",
       "  <thead>\n",
       "    <tr style=\"text-align: right;\">\n",
       "      <th></th>\n",
       "      <th>Season</th>\n",
       "      <th>Age</th>\n",
       "      <th>Tm</th>\n",
       "      <th>Lg</th>\n",
       "      <th>Pos</th>\n",
       "      <th>G</th>\n",
       "      <th>GS</th>\n",
       "      <th>MP</th>\n",
       "      <th>FG</th>\n",
       "      <th>FGA</th>\n",
       "      <th>...</th>\n",
       "      <th>FT%</th>\n",
       "      <th>ORB</th>\n",
       "      <th>DRB</th>\n",
       "      <th>TRB</th>\n",
       "      <th>AST</th>\n",
       "      <th>STL</th>\n",
       "      <th>BLK</th>\n",
       "      <th>TOV</th>\n",
       "      <th>PF</th>\n",
       "      <th>PTS</th>\n",
       "    </tr>\n",
       "  </thead>\n",
       "  <tbody>\n",
       "    <tr>\n",
       "      <th>0</th>\n",
       "      <td>2021-22</td>\n",
       "      <td>23.0</td>\n",
       "      <td>LAL</td>\n",
       "      <td>NBA</td>\n",
       "      <td>SG</td>\n",
       "      <td>61</td>\n",
       "      <td>19</td>\n",
       "      <td>23.2</td>\n",
       "      <td>2.4</td>\n",
       "      <td>5.2</td>\n",
       "      <td>...</td>\n",
       "      <td>0.839</td>\n",
       "      <td>0.7</td>\n",
       "      <td>2.4</td>\n",
       "      <td>3.2</td>\n",
       "      <td>1.8</td>\n",
       "      <td>0.5</td>\n",
       "      <td>0.3</td>\n",
       "      <td>0.7</td>\n",
       "      <td>1.4</td>\n",
       "      <td>7.3</td>\n",
       "    </tr>\n",
       "    <tr>\n",
       "      <th>1</th>\n",
       "      <td>2022-23</td>\n",
       "      <td>24.0</td>\n",
       "      <td>LAL</td>\n",
       "      <td>NBA</td>\n",
       "      <td>SG</td>\n",
       "      <td>64</td>\n",
       "      <td>22</td>\n",
       "      <td>28.8</td>\n",
       "      <td>4.0</td>\n",
       "      <td>7.7</td>\n",
       "      <td>...</td>\n",
       "      <td>0.864</td>\n",
       "      <td>0.5</td>\n",
       "      <td>2.5</td>\n",
       "      <td>3.0</td>\n",
       "      <td>3.4</td>\n",
       "      <td>0.5</td>\n",
       "      <td>0.3</td>\n",
       "      <td>1.5</td>\n",
       "      <td>1.7</td>\n",
       "      <td>13.0</td>\n",
       "    </tr>\n",
       "  </tbody>\n",
       "</table>\n",
       "<p>2 rows × 30 columns</p>\n",
       "</div>"
      ],
      "text/plain": [
       "    Season   Age   Tm   Lg Pos   G  GS    MP   FG  FGA  ...    FT%  ORB  DRB  \\\n",
       "0  2021-22  23.0  LAL  NBA  SG  61  19  23.2  2.4  5.2  ...  0.839  0.7  2.4   \n",
       "1  2022-23  24.0  LAL  NBA  SG  64  22  28.8  4.0  7.7  ...  0.864  0.5  2.5   \n",
       "\n",
       "   TRB  AST  STL  BLK  TOV   PF   PTS  \n",
       "0  3.2  1.8  0.5  0.3  0.7  1.4   7.3  \n",
       "1  3.0  3.4  0.5  0.3  1.5  1.7  13.0  \n",
       "\n",
       "[2 rows x 30 columns]"
      ]
     },
     "execution_count": 10,
     "metadata": {},
     "output_type": "execute_result"
    }
   ],
   "source": [
    "kareem_pergame_table_processed"
   ]
  },
  {
   "cell_type": "code",
   "execution_count": 11,
   "id": "f20850b1",
   "metadata": {},
   "outputs": [
    {
     "data": {
      "text/plain": [
       "array(['LAL', nan], dtype=object)"
      ]
     },
     "execution_count": 11,
     "metadata": {},
     "output_type": "execute_result"
    }
   ],
   "source": [
    "kareem_teams = kareem_pergame_table['Tm'].unique()\n",
    "kareem_teams"
   ]
  },
  {
   "cell_type": "code",
   "execution_count": 12,
   "id": "179cc0ac",
   "metadata": {},
   "outputs": [
    {
     "data": {
      "text/plain": [
       "array(['LAL'], dtype=object)"
      ]
     },
     "execution_count": 12,
     "metadata": {},
     "output_type": "execute_result"
    }
   ],
   "source": [
    "kareem_teams = kareem_teams[~pd.isnull(kareem_teams)]\n",
    "kareem_teams"
   ]
  },
  {
   "cell_type": "code",
   "execution_count": 13,
   "id": "55aaeed6",
   "metadata": {},
   "outputs": [
    {
     "data": {
      "text/html": [
       "<div>\n",
       "<style scoped>\n",
       "    .dataframe tbody tr th:only-of-type {\n",
       "        vertical-align: middle;\n",
       "    }\n",
       "\n",
       "    .dataframe tbody tr th {\n",
       "        vertical-align: top;\n",
       "    }\n",
       "\n",
       "    .dataframe thead th {\n",
       "        text-align: right;\n",
       "    }\n",
       "</style>\n",
       "<table border=\"1\" class=\"dataframe\">\n",
       "  <thead>\n",
       "    <tr style=\"text-align: right;\">\n",
       "      <th></th>\n",
       "      <th>Season</th>\n",
       "      <th>Age</th>\n",
       "      <th>Tm</th>\n",
       "      <th>Lg</th>\n",
       "      <th>Pos</th>\n",
       "      <th>G</th>\n",
       "      <th>GS</th>\n",
       "      <th>MP</th>\n",
       "      <th>FG</th>\n",
       "      <th>FGA</th>\n",
       "      <th>...</th>\n",
       "      <th>FT%</th>\n",
       "      <th>ORB</th>\n",
       "      <th>DRB</th>\n",
       "      <th>TRB</th>\n",
       "      <th>AST</th>\n",
       "      <th>STL</th>\n",
       "      <th>BLK</th>\n",
       "      <th>TOV</th>\n",
       "      <th>PF</th>\n",
       "      <th>PTS</th>\n",
       "    </tr>\n",
       "  </thead>\n",
       "  <tbody>\n",
       "    <tr>\n",
       "      <th>0</th>\n",
       "      <td>2022-23</td>\n",
       "      <td>24.0</td>\n",
       "      <td>LAL</td>\n",
       "      <td>NBA</td>\n",
       "      <td>SG</td>\n",
       "      <td>64</td>\n",
       "      <td>22</td>\n",
       "      <td>28.8</td>\n",
       "      <td>4.0</td>\n",
       "      <td>7.7</td>\n",
       "      <td>...</td>\n",
       "      <td>0.864</td>\n",
       "      <td>0.7</td>\n",
       "      <td>2.5</td>\n",
       "      <td>3.2</td>\n",
       "      <td>3.4</td>\n",
       "      <td>0.5</td>\n",
       "      <td>0.3</td>\n",
       "      <td>1.5</td>\n",
       "      <td>1.7</td>\n",
       "      <td>13.0</td>\n",
       "    </tr>\n",
       "  </tbody>\n",
       "</table>\n",
       "<p>1 rows × 30 columns</p>\n",
       "</div>"
      ],
      "text/plain": [
       "    Season   Age   Tm   Lg Pos   G  GS    MP   FG  FGA  ...    FT%  ORB  DRB  \\\n",
       "0  2022-23  24.0  LAL  NBA  SG  64  22  28.8  4.0  7.7  ...  0.864  0.7  2.5   \n",
       "\n",
       "   TRB  AST  STL  BLK  TOV   PF   PTS  \n",
       "0  3.2  3.4  0.5  0.3  1.5  1.7  13.0  \n",
       "\n",
       "[1 rows x 30 columns]"
      ]
     },
     "execution_count": 13,
     "metadata": {},
     "output_type": "execute_result"
    }
   ],
   "source": [
    "kareem_full = kareem_pergame_table_processed.apply(lambda x: x.dropna().max()).to_frame().T\n",
    "kareem_full"
   ]
  },
  {
   "cell_type": "code",
   "execution_count": 14,
   "id": "0aa2296d",
   "metadata": {},
   "outputs": [
    {
     "data": {
      "text/html": [
       "<div>\n",
       "<style scoped>\n",
       "    .dataframe tbody tr th:only-of-type {\n",
       "        vertical-align: middle;\n",
       "    }\n",
       "\n",
       "    .dataframe tbody tr th {\n",
       "        vertical-align: top;\n",
       "    }\n",
       "\n",
       "    .dataframe thead th {\n",
       "        text-align: right;\n",
       "    }\n",
       "</style>\n",
       "<table border=\"1\" class=\"dataframe\">\n",
       "  <thead>\n",
       "    <tr style=\"text-align: right;\">\n",
       "      <th></th>\n",
       "      <th>Season</th>\n",
       "      <th>Age</th>\n",
       "      <th>Tm</th>\n",
       "      <th>Lg</th>\n",
       "      <th>Pos</th>\n",
       "      <th>G</th>\n",
       "      <th>GS</th>\n",
       "      <th>MP</th>\n",
       "      <th>FG</th>\n",
       "      <th>FGA</th>\n",
       "      <th>...</th>\n",
       "      <th>FT%</th>\n",
       "      <th>ORB</th>\n",
       "      <th>DRB</th>\n",
       "      <th>TRB</th>\n",
       "      <th>AST</th>\n",
       "      <th>STL</th>\n",
       "      <th>BLK</th>\n",
       "      <th>TOV</th>\n",
       "      <th>PF</th>\n",
       "      <th>PTS</th>\n",
       "    </tr>\n",
       "  </thead>\n",
       "  <tbody>\n",
       "    <tr>\n",
       "      <th>0</th>\n",
       "      <td>2022-23</td>\n",
       "      <td>24.0</td>\n",
       "      <td>[LAL]</td>\n",
       "      <td>NBA</td>\n",
       "      <td>SG</td>\n",
       "      <td>64</td>\n",
       "      <td>22</td>\n",
       "      <td>28.8</td>\n",
       "      <td>4.0</td>\n",
       "      <td>7.7</td>\n",
       "      <td>...</td>\n",
       "      <td>0.864</td>\n",
       "      <td>0.7</td>\n",
       "      <td>2.5</td>\n",
       "      <td>3.2</td>\n",
       "      <td>3.4</td>\n",
       "      <td>0.5</td>\n",
       "      <td>0.3</td>\n",
       "      <td>1.5</td>\n",
       "      <td>1.7</td>\n",
       "      <td>13.0</td>\n",
       "    </tr>\n",
       "  </tbody>\n",
       "</table>\n",
       "<p>1 rows × 30 columns</p>\n",
       "</div>"
      ],
      "text/plain": [
       "    Season   Age     Tm   Lg Pos   G  GS    MP   FG  FGA  ...    FT%  ORB  \\\n",
       "0  2022-23  24.0  [LAL]  NBA  SG  64  22  28.8  4.0  7.7  ...  0.864  0.7   \n",
       "\n",
       "   DRB  TRB  AST  STL  BLK  TOV   PF   PTS  \n",
       "0  2.5  3.2  3.4  0.5  0.3  1.5  1.7  13.0  \n",
       "\n",
       "[1 rows x 30 columns]"
      ]
     },
     "execution_count": 14,
     "metadata": {},
     "output_type": "execute_result"
    }
   ],
   "source": [
    "kareem_full.loc[0, 'Tm'] = kareem_teams\n",
    "kareem_full"
   ]
  },
  {
   "cell_type": "markdown",
   "id": "3574f459",
   "metadata": {},
   "source": [
    "## Got a processed per game row with max of each category kept and \"Tm\" being an array of all teams played on"
   ]
  },
  {
   "cell_type": "markdown",
   "id": "b08a4853",
   "metadata": {},
   "source": [
    "### Now to try game highs section"
   ]
  },
  {
   "cell_type": "code",
   "execution_count": 15,
   "id": "4ad0ea1f",
   "metadata": {},
   "outputs": [],
   "source": [
    "kareem_highs = soup.find('table', {'id':'stathead_insights'})"
   ]
  },
  {
   "cell_type": "code",
   "execution_count": 16,
   "id": "c2d1fc97",
   "metadata": {},
   "outputs": [
    {
     "data": {
      "text/html": [
       "<div>\n",
       "<style scoped>\n",
       "    .dataframe tbody tr th:only-of-type {\n",
       "        vertical-align: middle;\n",
       "    }\n",
       "\n",
       "    .dataframe tbody tr th {\n",
       "        vertical-align: top;\n",
       "    }\n",
       "\n",
       "    .dataframe thead th {\n",
       "        text-align: right;\n",
       "    }\n",
       "</style>\n",
       "<table border=\"1\" class=\"dataframe\">\n",
       "  <thead>\n",
       "    <tr style=\"text-align: right;\">\n",
       "      <th></th>\n",
       "      <th>Highlight</th>\n",
       "      <th>Unnamed: 1</th>\n",
       "      <th>In Stathead</th>\n",
       "    </tr>\n",
       "  </thead>\n",
       "  <tbody>\n",
       "    <tr>\n",
       "      <th>0</th>\n",
       "      <td>Career high, Points</td>\n",
       "      <td>35.0</td>\n",
       "      <td>View full stats from top 20 games</td>\n",
       "    </tr>\n",
       "    <tr>\n",
       "      <th>1</th>\n",
       "      <td>Career high, Rebounds</td>\n",
       "      <td>16.0</td>\n",
       "      <td>View full stats from top 20 games</td>\n",
       "    </tr>\n",
       "    <tr>\n",
       "      <th>2</th>\n",
       "      <td>Career high, Assists</td>\n",
       "      <td>11.0</td>\n",
       "      <td>View full stats from top 20 games</td>\n",
       "    </tr>\n",
       "    <tr>\n",
       "      <th>3</th>\n",
       "      <td>Career high, Steals</td>\n",
       "      <td>3.0</td>\n",
       "      <td>View full stats from top 20 games</td>\n",
       "    </tr>\n",
       "    <tr>\n",
       "      <th>4</th>\n",
       "      <td>Career high, Blocks</td>\n",
       "      <td>2.0</td>\n",
       "      <td>View full stats from top 20 games</td>\n",
       "    </tr>\n",
       "    <tr>\n",
       "      <th>5</th>\n",
       "      <td>Career high, Game Score</td>\n",
       "      <td>35.8</td>\n",
       "      <td>View full stats from top 20 games</td>\n",
       "    </tr>\n",
       "    <tr>\n",
       "      <th>6</th>\n",
       "      <td>Triple-Doubles</td>\n",
       "      <td>1.0</td>\n",
       "      <td>View all</td>\n",
       "    </tr>\n",
       "  </tbody>\n",
       "</table>\n",
       "</div>"
      ],
      "text/plain": [
       "                 Highlight  Unnamed: 1                        In Stathead\n",
       "0      Career high, Points        35.0  View full stats from top 20 games\n",
       "1    Career high, Rebounds        16.0  View full stats from top 20 games\n",
       "2     Career high, Assists        11.0  View full stats from top 20 games\n",
       "3      Career high, Steals         3.0  View full stats from top 20 games\n",
       "4      Career high, Blocks         2.0  View full stats from top 20 games\n",
       "5  Career high, Game Score        35.8  View full stats from top 20 games\n",
       "6           Triple-Doubles         1.0                           View all"
      ]
     },
     "execution_count": 16,
     "metadata": {},
     "output_type": "execute_result"
    }
   ],
   "source": [
    "kareem_highs_table = pd.read_html(str(kareem_highs))[0]\n",
    "kareem_highs_table"
   ]
  },
  {
   "cell_type": "code",
   "execution_count": 17,
   "id": "2b01f19d",
   "metadata": {},
   "outputs": [
    {
     "data": {
      "text/plain": [
       "[35.0, 16.0, 11.0, 3.0, 2.0, 35.8, 1.0]"
      ]
     },
     "execution_count": 17,
     "metadata": {},
     "output_type": "execute_result"
    }
   ],
   "source": [
    "kareem_highs_table['Unnamed: 1'].tolist()"
   ]
  },
  {
   "cell_type": "code",
   "execution_count": 18,
   "id": "e2d3bed7",
   "metadata": {},
   "outputs": [
    {
     "data": {
      "text/plain": [
       "['Career high, Points',\n",
       " 'Career high, Rebounds',\n",
       " 'Career high, Assists',\n",
       " 'Career high, Steals',\n",
       " 'Career high, Blocks',\n",
       " 'Career high, Game Score',\n",
       " 'Triple-Doubles']"
      ]
     },
     "execution_count": 18,
     "metadata": {},
     "output_type": "execute_result"
    }
   ],
   "source": [
    "kareem_highs_table[\"Highlight\"].tolist()"
   ]
  },
  {
   "cell_type": "code",
   "execution_count": 19,
   "id": "1d10be77",
   "metadata": {},
   "outputs": [],
   "source": [
    "kareem_full[kareem_highs_table[\"Highlight\"].tolist()] = kareem_highs_table['Unnamed: 1'].tolist()"
   ]
  },
  {
   "cell_type": "code",
   "execution_count": 20,
   "id": "e896c2fb",
   "metadata": {},
   "outputs": [
    {
     "data": {
      "text/html": [
       "<div>\n",
       "<style scoped>\n",
       "    .dataframe tbody tr th:only-of-type {\n",
       "        vertical-align: middle;\n",
       "    }\n",
       "\n",
       "    .dataframe tbody tr th {\n",
       "        vertical-align: top;\n",
       "    }\n",
       "\n",
       "    .dataframe thead th {\n",
       "        text-align: right;\n",
       "    }\n",
       "</style>\n",
       "<table border=\"1\" class=\"dataframe\">\n",
       "  <thead>\n",
       "    <tr style=\"text-align: right;\">\n",
       "      <th></th>\n",
       "      <th>Season</th>\n",
       "      <th>Age</th>\n",
       "      <th>Tm</th>\n",
       "      <th>Lg</th>\n",
       "      <th>Pos</th>\n",
       "      <th>G</th>\n",
       "      <th>GS</th>\n",
       "      <th>MP</th>\n",
       "      <th>FG</th>\n",
       "      <th>FGA</th>\n",
       "      <th>...</th>\n",
       "      <th>TOV</th>\n",
       "      <th>PF</th>\n",
       "      <th>PTS</th>\n",
       "      <th>Career high, Points</th>\n",
       "      <th>Career high, Rebounds</th>\n",
       "      <th>Career high, Assists</th>\n",
       "      <th>Career high, Steals</th>\n",
       "      <th>Career high, Blocks</th>\n",
       "      <th>Career high, Game Score</th>\n",
       "      <th>Triple-Doubles</th>\n",
       "    </tr>\n",
       "  </thead>\n",
       "  <tbody>\n",
       "    <tr>\n",
       "      <th>0</th>\n",
       "      <td>2022-23</td>\n",
       "      <td>24.0</td>\n",
       "      <td>[LAL]</td>\n",
       "      <td>NBA</td>\n",
       "      <td>SG</td>\n",
       "      <td>64</td>\n",
       "      <td>22</td>\n",
       "      <td>28.8</td>\n",
       "      <td>4.0</td>\n",
       "      <td>7.7</td>\n",
       "      <td>...</td>\n",
       "      <td>1.5</td>\n",
       "      <td>1.7</td>\n",
       "      <td>13.0</td>\n",
       "      <td>35.0</td>\n",
       "      <td>16.0</td>\n",
       "      <td>11.0</td>\n",
       "      <td>3.0</td>\n",
       "      <td>2.0</td>\n",
       "      <td>35.8</td>\n",
       "      <td>1.0</td>\n",
       "    </tr>\n",
       "  </tbody>\n",
       "</table>\n",
       "<p>1 rows × 37 columns</p>\n",
       "</div>"
      ],
      "text/plain": [
       "    Season   Age     Tm   Lg Pos   G  GS    MP   FG  FGA  ...  TOV   PF   PTS  \\\n",
       "0  2022-23  24.0  [LAL]  NBA  SG  64  22  28.8  4.0  7.7  ...  1.5  1.7  13.0   \n",
       "\n",
       "  Career high, Points Career high, Rebounds Career high, Assists  \\\n",
       "0                35.0                  16.0                 11.0   \n",
       "\n",
       "  Career high, Steals Career high, Blocks Career high, Game Score  \\\n",
       "0                 3.0                 2.0                    35.8   \n",
       "\n",
       "  Triple-Doubles  \n",
       "0            1.0  \n",
       "\n",
       "[1 rows x 37 columns]"
      ]
     },
     "execution_count": 20,
     "metadata": {},
     "output_type": "execute_result"
    }
   ],
   "source": [
    "kareem_full"
   ]
  },
  {
   "cell_type": "markdown",
   "id": "f804e8ca",
   "metadata": {},
   "source": [
    "### Now college stats"
   ]
  },
  {
   "cell_type": "code",
   "execution_count": 21,
   "id": "34d479c9",
   "metadata": {},
   "outputs": [],
   "source": [
    "kareem_college = soup.find('table', {'id':'all_college_stats'})"
   ]
  },
  {
   "cell_type": "code",
   "execution_count": 22,
   "id": "159cad22",
   "metadata": {},
   "outputs": [],
   "source": [
    "kareem_college_table = pd.read_html(str(kareem_college))[0]"
   ]
  },
  {
   "cell_type": "code",
   "execution_count": 23,
   "id": "871ac862",
   "metadata": {},
   "outputs": [
    {
     "data": {
      "text/html": [
       "<div>\n",
       "<style scoped>\n",
       "    .dataframe tbody tr th:only-of-type {\n",
       "        vertical-align: middle;\n",
       "    }\n",
       "\n",
       "    .dataframe tbody tr th {\n",
       "        vertical-align: top;\n",
       "    }\n",
       "\n",
       "    .dataframe thead th {\n",
       "        text-align: right;\n",
       "    }\n",
       "</style>\n",
       "<table border=\"1\" class=\"dataframe\">\n",
       "  <thead>\n",
       "    <tr style=\"text-align: right;\">\n",
       "      <th></th>\n",
       "      <th>Season</th>\n",
       "      <th>Age</th>\n",
       "      <th>College</th>\n",
       "      <th>G</th>\n",
       "      <th>MP</th>\n",
       "      <th>FG</th>\n",
       "      <th>FGA</th>\n",
       "      <th>3P</th>\n",
       "      <th>3PA</th>\n",
       "      <th>FT</th>\n",
       "      <th>...</th>\n",
       "      <th>TOV</th>\n",
       "      <th>PF</th>\n",
       "      <th>PTS</th>\n",
       "      <th>FG%</th>\n",
       "      <th>3P%</th>\n",
       "      <th>FT%</th>\n",
       "      <th>MP</th>\n",
       "      <th>PTS</th>\n",
       "      <th>TRB</th>\n",
       "      <th>AST</th>\n",
       "    </tr>\n",
       "  </thead>\n",
       "  <tbody>\n",
       "    <tr>\n",
       "      <th>0</th>\n",
       "      <td>2016-17</td>\n",
       "      <td>18.0</td>\n",
       "      <td>WICHITAST</td>\n",
       "      <td>33</td>\n",
       "      <td>390</td>\n",
       "      <td>39</td>\n",
       "      <td>87</td>\n",
       "      <td>28</td>\n",
       "      <td>55</td>\n",
       "      <td>28</td>\n",
       "      <td>...</td>\n",
       "      <td>18</td>\n",
       "      <td>26</td>\n",
       "      <td>134</td>\n",
       "      <td>0.448</td>\n",
       "      <td>0.509</td>\n",
       "      <td>0.757</td>\n",
       "      <td>11.8</td>\n",
       "      <td>4.1</td>\n",
       "      <td>1.8</td>\n",
       "      <td>1.1</td>\n",
       "    </tr>\n",
       "    <tr>\n",
       "      <th>1</th>\n",
       "      <td>2017-18</td>\n",
       "      <td>19.0</td>\n",
       "      <td>WICHITAST</td>\n",
       "      <td>33</td>\n",
       "      <td>708</td>\n",
       "      <td>85</td>\n",
       "      <td>189</td>\n",
       "      <td>54</td>\n",
       "      <td>127</td>\n",
       "      <td>43</td>\n",
       "      <td>...</td>\n",
       "      <td>38</td>\n",
       "      <td>53</td>\n",
       "      <td>267</td>\n",
       "      <td>0.450</td>\n",
       "      <td>0.425</td>\n",
       "      <td>0.827</td>\n",
       "      <td>21.5</td>\n",
       "      <td>8.1</td>\n",
       "      <td>3.1</td>\n",
       "      <td>2.0</td>\n",
       "    </tr>\n",
       "    <tr>\n",
       "      <th>2</th>\n",
       "      <td>2019-20</td>\n",
       "      <td>21.0</td>\n",
       "      <td>OKLAHOMA</td>\n",
       "      <td>31</td>\n",
       "      <td>1030</td>\n",
       "      <td>137</td>\n",
       "      <td>360</td>\n",
       "      <td>42</td>\n",
       "      <td>162</td>\n",
       "      <td>140</td>\n",
       "      <td>...</td>\n",
       "      <td>77</td>\n",
       "      <td>58</td>\n",
       "      <td>456</td>\n",
       "      <td>0.381</td>\n",
       "      <td>0.259</td>\n",
       "      <td>0.848</td>\n",
       "      <td>33.2</td>\n",
       "      <td>14.7</td>\n",
       "      <td>5.3</td>\n",
       "      <td>3.0</td>\n",
       "    </tr>\n",
       "    <tr>\n",
       "      <th>3</th>\n",
       "      <td>2020-21</td>\n",
       "      <td>22.0</td>\n",
       "      <td>OKLAHOMA</td>\n",
       "      <td>25</td>\n",
       "      <td>862</td>\n",
       "      <td>139</td>\n",
       "      <td>314</td>\n",
       "      <td>32</td>\n",
       "      <td>105</td>\n",
       "      <td>147</td>\n",
       "      <td>...</td>\n",
       "      <td>75</td>\n",
       "      <td>42</td>\n",
       "      <td>457</td>\n",
       "      <td>0.443</td>\n",
       "      <td>0.305</td>\n",
       "      <td>0.865</td>\n",
       "      <td>34.5</td>\n",
       "      <td>18.3</td>\n",
       "      <td>5.5</td>\n",
       "      <td>4.6</td>\n",
       "    </tr>\n",
       "    <tr>\n",
       "      <th>4</th>\n",
       "      <td>Career</td>\n",
       "      <td>NaN</td>\n",
       "      <td>NaN</td>\n",
       "      <td>122</td>\n",
       "      <td>2990</td>\n",
       "      <td>400</td>\n",
       "      <td>950</td>\n",
       "      <td>156</td>\n",
       "      <td>449</td>\n",
       "      <td>358</td>\n",
       "      <td>...</td>\n",
       "      <td>208</td>\n",
       "      <td>179</td>\n",
       "      <td>1314</td>\n",
       "      <td>0.421</td>\n",
       "      <td>0.347</td>\n",
       "      <td>0.844</td>\n",
       "      <td>24.5</td>\n",
       "      <td>10.8</td>\n",
       "      <td>3.8</td>\n",
       "      <td>2.6</td>\n",
       "    </tr>\n",
       "  </tbody>\n",
       "</table>\n",
       "<p>5 rows × 26 columns</p>\n",
       "</div>"
      ],
      "text/plain": [
       "    Season   Age    College    G    MP   FG  FGA   3P  3PA   FT  ...  TOV  \\\n",
       "0  2016-17  18.0  WICHITAST   33   390   39   87   28   55   28  ...   18   \n",
       "1  2017-18  19.0  WICHITAST   33   708   85  189   54  127   43  ...   38   \n",
       "2  2019-20  21.0   OKLAHOMA   31  1030  137  360   42  162  140  ...   77   \n",
       "3  2020-21  22.0   OKLAHOMA   25   862  139  314   32  105  147  ...   75   \n",
       "4   Career   NaN        NaN  122  2990  400  950  156  449  358  ...  208   \n",
       "\n",
       "    PF   PTS    FG%    3P%    FT%    MP   PTS  TRB  AST  \n",
       "0   26   134  0.448  0.509  0.757  11.8   4.1  1.8  1.1  \n",
       "1   53   267  0.450  0.425  0.827  21.5   8.1  3.1  2.0  \n",
       "2   58   456  0.381  0.259  0.848  33.2  14.7  5.3  3.0  \n",
       "3   42   457  0.443  0.305  0.865  34.5  18.3  5.5  4.6  \n",
       "4  179  1314  0.421  0.347  0.844  24.5  10.8  3.8  2.6  \n",
       "\n",
       "[5 rows x 26 columns]"
      ]
     },
     "execution_count": 23,
     "metadata": {},
     "output_type": "execute_result"
    }
   ],
   "source": [
    "kareem_college_table.columns = kareem_college_table.columns.droplevel()\n",
    "kareem_college_table"
   ]
  },
  {
   "cell_type": "code",
   "execution_count": 24,
   "id": "98c36e40",
   "metadata": {},
   "outputs": [
    {
     "data": {
      "text/plain": [
       "array(['WICHITAST', 'OKLAHOMA'], dtype=object)"
      ]
     },
     "execution_count": 24,
     "metadata": {},
     "output_type": "execute_result"
    }
   ],
   "source": [
    "kareem_college_teams = kareem_college_table['College'].unique()\n",
    "kareem_college_teams = kareem_college_teams[~pd.isnull(kareem_college_teams)]\n",
    "kareem_college_teams"
   ]
  },
  {
   "cell_type": "code",
   "execution_count": 25,
   "id": "0f874513",
   "metadata": {},
   "outputs": [],
   "source": [
    "kareem_full.loc[0, 'College'] = kareem_college_teams"
   ]
  },
  {
   "cell_type": "code",
   "execution_count": 26,
   "id": "6b18df84",
   "metadata": {},
   "outputs": [
    {
     "data": {
      "text/html": [
       "<div>\n",
       "<style scoped>\n",
       "    .dataframe tbody tr th:only-of-type {\n",
       "        vertical-align: middle;\n",
       "    }\n",
       "\n",
       "    .dataframe tbody tr th {\n",
       "        vertical-align: top;\n",
       "    }\n",
       "\n",
       "    .dataframe thead th {\n",
       "        text-align: right;\n",
       "    }\n",
       "</style>\n",
       "<table border=\"1\" class=\"dataframe\">\n",
       "  <thead>\n",
       "    <tr style=\"text-align: right;\">\n",
       "      <th></th>\n",
       "      <th>Season</th>\n",
       "      <th>Age</th>\n",
       "      <th>Tm</th>\n",
       "      <th>Lg</th>\n",
       "      <th>Pos</th>\n",
       "      <th>G</th>\n",
       "      <th>GS</th>\n",
       "      <th>MP</th>\n",
       "      <th>FG</th>\n",
       "      <th>FGA</th>\n",
       "      <th>...</th>\n",
       "      <th>PF</th>\n",
       "      <th>PTS</th>\n",
       "      <th>Career high, Points</th>\n",
       "      <th>Career high, Rebounds</th>\n",
       "      <th>Career high, Assists</th>\n",
       "      <th>Career high, Steals</th>\n",
       "      <th>Career high, Blocks</th>\n",
       "      <th>Career high, Game Score</th>\n",
       "      <th>Triple-Doubles</th>\n",
       "      <th>College</th>\n",
       "    </tr>\n",
       "  </thead>\n",
       "  <tbody>\n",
       "    <tr>\n",
       "      <th>0</th>\n",
       "      <td>2022-23</td>\n",
       "      <td>24.0</td>\n",
       "      <td>[LAL]</td>\n",
       "      <td>NBA</td>\n",
       "      <td>SG</td>\n",
       "      <td>64</td>\n",
       "      <td>22</td>\n",
       "      <td>28.8</td>\n",
       "      <td>4.0</td>\n",
       "      <td>7.7</td>\n",
       "      <td>...</td>\n",
       "      <td>1.7</td>\n",
       "      <td>13.0</td>\n",
       "      <td>35.0</td>\n",
       "      <td>16.0</td>\n",
       "      <td>11.0</td>\n",
       "      <td>3.0</td>\n",
       "      <td>2.0</td>\n",
       "      <td>35.8</td>\n",
       "      <td>1.0</td>\n",
       "      <td>[WICHITAST, OKLAHOMA]</td>\n",
       "    </tr>\n",
       "  </tbody>\n",
       "</table>\n",
       "<p>1 rows × 38 columns</p>\n",
       "</div>"
      ],
      "text/plain": [
       "    Season   Age     Tm   Lg Pos   G  GS    MP   FG  FGA  ...   PF   PTS  \\\n",
       "0  2022-23  24.0  [LAL]  NBA  SG  64  22  28.8  4.0  7.7  ...  1.7  13.0   \n",
       "\n",
       "  Career high, Points Career high, Rebounds Career high, Assists  \\\n",
       "0                35.0                  16.0                 11.0   \n",
       "\n",
       "  Career high, Steals Career high, Blocks Career high, Game Score  \\\n",
       "0                 3.0                 2.0                    35.8   \n",
       "\n",
       "  Triple-Doubles                College  \n",
       "0            1.0  [WICHITAST, OKLAHOMA]  \n",
       "\n",
       "[1 rows x 38 columns]"
      ]
     },
     "execution_count": 26,
     "metadata": {},
     "output_type": "execute_result"
    }
   ],
   "source": [
    "kareem_full"
   ]
  },
  {
   "cell_type": "code",
   "execution_count": null,
   "id": "1865c70c",
   "metadata": {},
   "outputs": [],
   "source": []
  },
  {
   "cell_type": "code",
   "execution_count": null,
   "id": "e6732bf6",
   "metadata": {},
   "outputs": [],
   "source": []
  },
  {
   "cell_type": "code",
   "execution_count": null,
   "id": "f9bc5a8e",
   "metadata": {},
   "outputs": [],
   "source": []
  },
  {
   "cell_type": "code",
   "execution_count": null,
   "id": "443779d8",
   "metadata": {},
   "outputs": [],
   "source": []
  },
  {
   "cell_type": "markdown",
   "id": "140e4abb",
   "metadata": {},
   "source": [
    "### Now get all the awards"
   ]
  },
  {
   "cell_type": "code",
   "execution_count": 27,
   "id": "738c5b00",
   "metadata": {},
   "outputs": [],
   "source": [
    "kareem_allstar = soup.find(id='leaderboard_allstar')"
   ]
  },
  {
   "cell_type": "code",
   "execution_count": 28,
   "id": "8c54ddca",
   "metadata": {},
   "outputs": [],
   "source": [
    "if kareem_allstar is not None:\n",
    "    kareem_all_star_text = [button.text for button in kareem_allstar][-2]\n",
    "    kareem_num_all_stars = int(re.findall(\"\\d+\", kareem_all_star_text)[0])\n",
    "    kareem_full[\"All Star Games\"] = kareem_num_all_stars\n",
    "else:\n",
    "    kareem_full[\"All Star Games\"] = 0"
   ]
  },
  {
   "cell_type": "code",
   "execution_count": null,
   "id": "530e0ac5",
   "metadata": {},
   "outputs": [],
   "source": []
  },
  {
   "cell_type": "code",
   "execution_count": null,
   "id": "a06fed21",
   "metadata": {},
   "outputs": [],
   "source": []
  },
  {
   "cell_type": "code",
   "execution_count": 29,
   "id": "b4c20b4a",
   "metadata": {},
   "outputs": [],
   "source": [
    "kareem_champs = soup.find(id='leaderboard_championships')"
   ]
  },
  {
   "cell_type": "code",
   "execution_count": 30,
   "id": "3f0f6c18",
   "metadata": {},
   "outputs": [],
   "source": [
    "if kareem_allstar is not None:\n",
    "    kareem_champs_text = [button.text for button in kareem_allstar][-2]\n",
    "    kareem_num_champs = int(re.findall(\"\\d+\", kareem_all_star_text)[0])\n",
    "    kareem_full[\"Championships\"] = kareem_num_all_stars\n",
    "else:\n",
    "    kareem_full[\"Championships\"] = 0"
   ]
  },
  {
   "cell_type": "code",
   "execution_count": null,
   "id": "d23ec6f7",
   "metadata": {},
   "outputs": [],
   "source": []
  },
  {
   "cell_type": "code",
   "execution_count": null,
   "id": "0ff926d1",
   "metadata": {},
   "outputs": [],
   "source": []
  },
  {
   "cell_type": "code",
   "execution_count": 33,
   "id": "337f12af",
   "metadata": {},
   "outputs": [],
   "source": [
    "kareem_hof = soup.find(id='leaderboard_hof_prob')"
   ]
  },
  {
   "cell_type": "code",
   "execution_count": 34,
   "id": "466865e3",
   "metadata": {},
   "outputs": [],
   "source": [
    "if kareem_allstar is not None:\n",
    "    kareem_hof_text = [button.text for button in kareem_hof][-2]\n",
    "    kareem_hof_prob = int(re.findall(\"\\d+\", kareem_hof_text)[0])\n",
    "    if (kareem_hof_prob) == 100:\n",
    "        kareem_full[\"HOF\"] = 1\n",
    "    else:\n",
    "        kareem_full[\"HOF\"] = 0\n",
    "else:\n",
    "    kareem_full[\"HOF\"] = 0"
   ]
  },
  {
   "cell_type": "code",
   "execution_count": 35,
   "id": "1d31c4a4",
   "metadata": {},
   "outputs": [
    {
     "data": {
      "text/html": [
       "<div>\n",
       "<style scoped>\n",
       "    .dataframe tbody tr th:only-of-type {\n",
       "        vertical-align: middle;\n",
       "    }\n",
       "\n",
       "    .dataframe tbody tr th {\n",
       "        vertical-align: top;\n",
       "    }\n",
       "\n",
       "    .dataframe thead th {\n",
       "        text-align: right;\n",
       "    }\n",
       "</style>\n",
       "<table border=\"1\" class=\"dataframe\">\n",
       "  <thead>\n",
       "    <tr style=\"text-align: right;\">\n",
       "      <th></th>\n",
       "      <th>Season</th>\n",
       "      <th>Age</th>\n",
       "      <th>Tm</th>\n",
       "      <th>Lg</th>\n",
       "      <th>Pos</th>\n",
       "      <th>G</th>\n",
       "      <th>GS</th>\n",
       "      <th>MP</th>\n",
       "      <th>FG</th>\n",
       "      <th>FGA</th>\n",
       "      <th>...</th>\n",
       "      <th>Career high, Rebounds</th>\n",
       "      <th>Career high, Assists</th>\n",
       "      <th>Career high, Steals</th>\n",
       "      <th>Career high, Blocks</th>\n",
       "      <th>Career high, Game Score</th>\n",
       "      <th>Triple-Doubles</th>\n",
       "      <th>College</th>\n",
       "      <th>All Star Games</th>\n",
       "      <th>Championships</th>\n",
       "      <th>HOF</th>\n",
       "    </tr>\n",
       "  </thead>\n",
       "  <tbody>\n",
       "    <tr>\n",
       "      <th>0</th>\n",
       "      <td>2022-23</td>\n",
       "      <td>24.0</td>\n",
       "      <td>[LAL]</td>\n",
       "      <td>NBA</td>\n",
       "      <td>SG</td>\n",
       "      <td>64</td>\n",
       "      <td>22</td>\n",
       "      <td>28.8</td>\n",
       "      <td>4.0</td>\n",
       "      <td>7.7</td>\n",
       "      <td>...</td>\n",
       "      <td>16.0</td>\n",
       "      <td>11.0</td>\n",
       "      <td>3.0</td>\n",
       "      <td>2.0</td>\n",
       "      <td>35.8</td>\n",
       "      <td>1.0</td>\n",
       "      <td>[WICHITAST, OKLAHOMA]</td>\n",
       "      <td>0</td>\n",
       "      <td>0</td>\n",
       "      <td>0</td>\n",
       "    </tr>\n",
       "  </tbody>\n",
       "</table>\n",
       "<p>1 rows × 41 columns</p>\n",
       "</div>"
      ],
      "text/plain": [
       "    Season   Age     Tm   Lg Pos   G  GS    MP   FG  FGA  ...  \\\n",
       "0  2022-23  24.0  [LAL]  NBA  SG  64  22  28.8  4.0  7.7  ...   \n",
       "\n",
       "  Career high, Rebounds Career high, Assists Career high, Steals  \\\n",
       "0                  16.0                 11.0                 3.0   \n",
       "\n",
       "  Career high, Blocks Career high, Game Score Triple-Doubles  \\\n",
       "0                 2.0                    35.8            1.0   \n",
       "\n",
       "                 College All Star Games Championships HOF  \n",
       "0  [WICHITAST, OKLAHOMA]              0             0   0  \n",
       "\n",
       "[1 rows x 41 columns]"
      ]
     },
     "execution_count": 35,
     "metadata": {},
     "output_type": "execute_result"
    }
   ],
   "source": [
    "kareem_full"
   ]
  },
  {
   "cell_type": "code",
   "execution_count": null,
   "id": "4ea1e058",
   "metadata": {},
   "outputs": [],
   "source": []
  },
  {
   "cell_type": "code",
   "execution_count": null,
   "id": "b5da9399",
   "metadata": {},
   "outputs": [],
   "source": []
  },
  {
   "cell_type": "code",
   "execution_count": 36,
   "id": "7bc8129c",
   "metadata": {},
   "outputs": [],
   "source": [
    "kareem_drafted = soup.find(id=\"meta\")\n",
    "kareem_drafted_p = kareem_drafted.findAll('p')\n",
    "desired_p_tag = None\n",
    "for tag in kareem_drafted_p:\n",
    "    if tag.name == 'p' and tag.strong and tag.strong.text.strip() == 'Draft:':\n",
    "        desired_p_tag = tag\n",
    "        break"
   ]
  },
  {
   "cell_type": "code",
   "execution_count": 41,
   "id": "e71d7fe6",
   "metadata": {},
   "outputs": [],
   "source": [
    "if desired_p_tag is not None:\n",
    "    kareem_draft_text = desired_p_tag.text.split('\\n')[-2]\n",
    "    kareem_match = re.search(r'\\b\\d+(?:st|nd|rd|th) pick\\b', kareem_draft_text).group(0)\n",
    "    kareem_pick = int(re.findall(\"\\d+\", kareem_match)[0])\n",
    "    kareem_full[\"Pick #\"] = kareem_pick\n",
    "    kareem_draft_match = re.search(r'\\d{4}\\sNBA\\sDraft', kareem_draft_text).group(0)\n",
    "    kareem_draft_year = int(re.findall(\"\\d+\", kareem_draft_match)[0])\n",
    "    kareem_full[\"Draft Year\"] = kareem_draft_year\n",
    "else:\n",
    "    kareem_full[\"Pick #\"] = None\n",
    "    kareem_full[\"Draft Year\"] = None"
   ]
  },
  {
   "cell_type": "code",
   "execution_count": null,
   "id": "a6895bb7",
   "metadata": {},
   "outputs": [],
   "source": []
  },
  {
   "cell_type": "code",
   "execution_count": null,
   "id": "a3192ccf",
   "metadata": {},
   "outputs": [],
   "source": []
  },
  {
   "cell_type": "code",
   "execution_count": null,
   "id": "b5d94348",
   "metadata": {},
   "outputs": [],
   "source": []
  },
  {
   "cell_type": "markdown",
   "id": "d291383c",
   "metadata": {},
   "source": [
    "## Last thing is his image URL"
   ]
  },
  {
   "cell_type": "code",
   "execution_count": 42,
   "id": "8b3b7162",
   "metadata": {},
   "outputs": [],
   "source": [
    "kareem_image = soup.find(class_=\"media-item\")"
   ]
  },
  {
   "cell_type": "code",
   "execution_count": 43,
   "id": "f1ff689a",
   "metadata": {},
   "outputs": [],
   "source": [
    "kareem_image_url = kareem_image.find('img')['src']"
   ]
  },
  {
   "cell_type": "code",
   "execution_count": 44,
   "id": "fc750378",
   "metadata": {},
   "outputs": [],
   "source": [
    "kareem_full['Image URL'] = kareem_image_url"
   ]
  },
  {
   "cell_type": "code",
   "execution_count": 45,
   "id": "e03f5a9a",
   "metadata": {},
   "outputs": [
    {
     "data": {
      "text/html": [
       "<div>\n",
       "<style scoped>\n",
       "    .dataframe tbody tr th:only-of-type {\n",
       "        vertical-align: middle;\n",
       "    }\n",
       "\n",
       "    .dataframe tbody tr th {\n",
       "        vertical-align: top;\n",
       "    }\n",
       "\n",
       "    .dataframe thead th {\n",
       "        text-align: right;\n",
       "    }\n",
       "</style>\n",
       "<table border=\"1\" class=\"dataframe\">\n",
       "  <thead>\n",
       "    <tr style=\"text-align: right;\">\n",
       "      <th></th>\n",
       "      <th>Season</th>\n",
       "      <th>Age</th>\n",
       "      <th>Tm</th>\n",
       "      <th>Lg</th>\n",
       "      <th>Pos</th>\n",
       "      <th>G</th>\n",
       "      <th>GS</th>\n",
       "      <th>MP</th>\n",
       "      <th>FG</th>\n",
       "      <th>FGA</th>\n",
       "      <th>...</th>\n",
       "      <th>Career high, Blocks</th>\n",
       "      <th>Career high, Game Score</th>\n",
       "      <th>Triple-Doubles</th>\n",
       "      <th>College</th>\n",
       "      <th>All Star Games</th>\n",
       "      <th>Championships</th>\n",
       "      <th>HOF</th>\n",
       "      <th>Pick #</th>\n",
       "      <th>Draft Year</th>\n",
       "      <th>Image URL</th>\n",
       "    </tr>\n",
       "  </thead>\n",
       "  <tbody>\n",
       "    <tr>\n",
       "      <th>0</th>\n",
       "      <td>2022-23</td>\n",
       "      <td>24.0</td>\n",
       "      <td>[LAL]</td>\n",
       "      <td>NBA</td>\n",
       "      <td>SG</td>\n",
       "      <td>64</td>\n",
       "      <td>22</td>\n",
       "      <td>28.8</td>\n",
       "      <td>4.0</td>\n",
       "      <td>7.7</td>\n",
       "      <td>...</td>\n",
       "      <td>2.0</td>\n",
       "      <td>35.8</td>\n",
       "      <td>1.0</td>\n",
       "      <td>[WICHITAST, OKLAHOMA]</td>\n",
       "      <td>0</td>\n",
       "      <td>0</td>\n",
       "      <td>0</td>\n",
       "      <td>None</td>\n",
       "      <td>None</td>\n",
       "      <td>https://www.basketball-reference.com/req/20210...</td>\n",
       "    </tr>\n",
       "  </tbody>\n",
       "</table>\n",
       "<p>1 rows × 44 columns</p>\n",
       "</div>"
      ],
      "text/plain": [
       "    Season   Age     Tm   Lg Pos   G  GS    MP   FG  FGA  ...  \\\n",
       "0  2022-23  24.0  [LAL]  NBA  SG  64  22  28.8  4.0  7.7  ...   \n",
       "\n",
       "  Career high, Blocks Career high, Game Score Triple-Doubles  \\\n",
       "0                 2.0                    35.8            1.0   \n",
       "\n",
       "                 College All Star Games Championships HOF Pick # Draft Year  \\\n",
       "0  [WICHITAST, OKLAHOMA]              0             0   0   None       None   \n",
       "\n",
       "                                           Image URL  \n",
       "0  https://www.basketball-reference.com/req/20210...  \n",
       "\n",
       "[1 rows x 44 columns]"
      ]
     },
     "execution_count": 45,
     "metadata": {},
     "output_type": "execute_result"
    }
   ],
   "source": [
    "kareem_full"
   ]
  },
  {
   "cell_type": "code",
   "execution_count": null,
   "id": "fd208022",
   "metadata": {},
   "outputs": [],
   "source": []
  }
 ],
 "metadata": {
  "kernelspec": {
   "display_name": "Python 3 (ipykernel)",
   "language": "python",
   "name": "python3"
  },
  "language_info": {
   "codemirror_mode": {
    "name": "ipython",
    "version": 3
   },
   "file_extension": ".py",
   "mimetype": "text/x-python",
   "name": "python",
   "nbconvert_exporter": "python",
   "pygments_lexer": "ipython3",
   "version": "3.10.9"
  }
 },
 "nbformat": 4,
 "nbformat_minor": 5
}
